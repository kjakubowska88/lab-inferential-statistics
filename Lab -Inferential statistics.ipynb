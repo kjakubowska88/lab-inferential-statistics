{
 "cells": [
  {
   "cell_type": "markdown",
   "metadata": {},
   "source": [
    "# Lab | Inferential statistics\n",
    "Instructions\n",
    "It is assumed that the mean systolic blood pressure is μ = 120 mm Hg. In the Honolulu Heart Study, a sample of n = 100 people had an average systolic blood pressure of 130.1 mm Hg with a standard deviation of 21.21 mm Hg. Is the group significantly different (with respect to systolic blood pressure!) from the regular population?\n",
    "\n",
    "Set up the hypothesis test.\n",
    "Write down all the steps followed for setting up the test.\n",
    "Calculate the test statistic by hand and also code it in Python. It should be 4.76190. We will take a look at how to make decisions based on this calculated value.\n",
    "If you finished the previous question, please go through the code for principal_component_analysis_example provided in the files_for_lab folder ."
   ]
  },
  {
   "cell_type": "code",
   "execution_count": 1,
   "metadata": {},
   "outputs": [],
   "source": [
    "import pandas as pd\n",
    "import numpy as np\n",
    "pd.set_option('display.max_columns', None)\n",
    "import warnings\n",
    "warnings.filterwarnings('ignore')\n",
    "import matplotlib.pyplot as plt\n",
    "import seaborn as sns\n",
    "import math"
   ]
  },
  {
   "cell_type": "code",
   "execution_count": 2,
   "metadata": {},
   "outputs": [],
   "source": [
    "population_mean = 120\n",
    "sample_mean = 130.1\n",
    "sample_std = 21.21\n",
    "n = 100"
   ]
  },
  {
   "cell_type": "code",
   "execution_count": 3,
   "metadata": {},
   "outputs": [],
   "source": [
    "statistic = (sample_mean - population_mean)/(sample_std/math.sqrt(n))\n"
   ]
  },
  {
   "cell_type": "code",
   "execution_count": 6,
   "metadata": {},
   "outputs": [
    {
     "name": "stdout",
     "output_type": "stream",
     "text": [
      "The statistic is:  4.761904761904759\n"
     ]
    }
   ],
   "source": [
    "print(\"The statistic is: \", statistic)"
   ]
  },
  {
   "cell_type": "code",
   "execution_count": 17,
   "metadata": {},
   "outputs": [
    {
     "name": "stdout",
     "output_type": "stream",
     "text": [
      "The z-statistic for the sample 0 is: 4.446784045449736\n",
      "The z-statistic for the sample 1 is: 3.969830218268924\n",
      "The z-statistic for the sample 2 is: 4.686028221286622\n",
      "The z-statistic for the sample 3 is: 4.6954177615954364\n",
      "The z-statistic for the sample 4 is: 4.09165053778255\n",
      "The z-statistic for the sample 5 is: 5.8826179592639525\n",
      "The z-statistic for the sample 6 is: 7.272507476947538\n",
      "The z-statistic for the sample 7 is: 5.228892756854797\n",
      "The z-statistic for the sample 8 is: 3.598087060442888\n",
      "The z-statistic for the sample 9 is: 4.375461855341806\n"
     ]
    }
   ],
   "source": [
    "from numpy.random import normal\n",
    "\n",
    "\n",
    "samples = {}\n",
    "\n",
    "for i in range(10):\n",
    "    sample_name = \"sample_\" + str(i)\n",
    "    samples[sample_name] = normal(loc = 130.1, scale = 21.21, size = 100)\n",
    "    sample_mean = \"sample_\" + str(i) + \"_mean\"\n",
    "    samples[sample_mean] = np.mean(samples[sample_name])\n",
    "    sample_std = \"sample_\" + str(i) + \"_std\"\n",
    "    samples[sample_std] = np.std(samples[sample_name],ddof=1)\n",
    "    sample_statistic = \"sample_\" + str(i) + \"_t-statistic\"\n",
    "    samples[sample_statistic] = (samples[sample_mean]- population_mean)/(samples[sample_std]/math.sqrt(n)) \n",
    "    print(\"The z-statistic for the sample {} is: {}\".format(i,samples[sample_statistic]))"
   ]
  },
  {
   "cell_type": "code",
   "execution_count": 18,
   "metadata": {},
   "outputs": [
    {
     "data": {
      "text/plain": [
       "['sample_0',\n",
       " 'sample_0_mean',\n",
       " 'sample_0_std',\n",
       " 'sample_0_t-statistic',\n",
       " 'sample_1',\n",
       " 'sample_1_mean',\n",
       " 'sample_1_std',\n",
       " 'sample_1_t-statistic',\n",
       " 'sample_2',\n",
       " 'sample_2_mean',\n",
       " 'sample_2_std',\n",
       " 'sample_2_t-statistic',\n",
       " 'sample_3',\n",
       " 'sample_3_mean',\n",
       " 'sample_3_std',\n",
       " 'sample_3_t-statistic',\n",
       " 'sample_4',\n",
       " 'sample_4_mean',\n",
       " 'sample_4_std',\n",
       " 'sample_4_t-statistic',\n",
       " 'sample_5',\n",
       " 'sample_5_mean',\n",
       " 'sample_5_std',\n",
       " 'sample_5_t-statistic',\n",
       " 'sample_6',\n",
       " 'sample_6_mean',\n",
       " 'sample_6_std',\n",
       " 'sample_6_t-statistic',\n",
       " 'sample_7',\n",
       " 'sample_7_mean',\n",
       " 'sample_7_std',\n",
       " 'sample_7_t-statistic',\n",
       " 'sample_8',\n",
       " 'sample_8_mean',\n",
       " 'sample_8_std',\n",
       " 'sample_8_t-statistic',\n",
       " 'sample_9',\n",
       " 'sample_9_mean',\n",
       " 'sample_9_std',\n",
       " 'sample_9_t-statistic']"
      ]
     },
     "execution_count": 18,
     "metadata": {},
     "output_type": "execute_result"
    }
   ],
   "source": [
    "list(samples.keys())"
   ]
  },
  {
   "cell_type": "code",
   "execution_count": 16,
   "metadata": {},
   "outputs": [
    {
     "name": "stdout",
     "output_type": "stream",
     "text": [
      "Assuming a significance level of 0.05\n",
      "\n",
      "The p-value of sample 0 is: 0.00647\n",
      "Therefore we discard the null hypothesis Ho, as it's very unlikely to get sample 0 given Ho.\n",
      "\n",
      "The p-value of sample 1 is: 2.43e-05\n",
      "Therefore we discard the null hypothesis Ho, as it's very unlikely to get sample 1 given Ho.\n",
      "\n",
      "The p-value of sample 2 is: 5.39e-07\n",
      "Therefore we discard the null hypothesis Ho, as it's very unlikely to get sample 2 given Ho.\n",
      "\n",
      "The p-value of sample 3 is: 5.69e-07\n",
      "Therefore we discard the null hypothesis Ho, as it's very unlikely to get sample 3 given Ho.\n",
      "\n",
      "The p-value of sample 4 is: 3.47e-06\n",
      "Therefore we discard the null hypothesis Ho, as it's very unlikely to get sample 4 given Ho.\n",
      "\n",
      "The p-value of sample 5 is: 6.66e-06\n",
      "Therefore we discard the null hypothesis Ho, as it's very unlikely to get sample 5 given Ho.\n",
      "\n",
      "The p-value of sample 6 is: 0.000248\n",
      "Therefore we discard the null hypothesis Ho, as it's very unlikely to get sample 6 given Ho.\n",
      "\n",
      "The p-value of sample 7 is: 0.000516\n",
      "Therefore we discard the null hypothesis Ho, as it's very unlikely to get sample 7 given Ho.\n",
      "\n",
      "The p-value of sample 8 is: 5.56e-05\n",
      "Therefore we discard the null hypothesis Ho, as it's very unlikely to get sample 8 given Ho.\n",
      "\n",
      "The p-value of sample 9 is: 0.000146\n",
      "Therefore we discard the null hypothesis Ho, as it's very unlikely to get sample 9 given Ho.\n",
      "\n"
     ]
    }
   ],
   "source": [
    "from scipy import stats\n",
    "from numpy.random import normal\n",
    "\n",
    "print(\"Assuming a significance level of 0.05\")\n",
    "print()\n",
    "\n",
    "for i in range(10):\n",
    "    sample_name = \"sample_\" + str(i)\n",
    "    print(\"The p-value of sample {} is: {:-5.3}\".format(i,stats.ttest_1samp(samples[sample_name],120)[1]))\n",
    "    #print(\"The values in the sample are: \")\n",
    "    #print(samples[sample_name])\n",
    "    #sample_mean = \"sample_\" + str(i) + \"_mean\"\n",
    "    #print(samples[sample_mean])\n",
    "    #print()\n",
    "    if ( stats.ttest_1samp(samples[sample_name],120)[1] < 0.05 ):\n",
    "        print(\"Therefore we discard the null hypothesis Ho, as it's very unlikely to get sample {} given Ho.\".format(i))\n",
    "    else: \n",
    "        print(\"We accept the null hypothesis Ho, as it's very likely to obtain sample {} given Ho\".format(i) )\n",
    "    print()"
   ]
  }
 ],
 "metadata": {
  "kernelspec": {
   "display_name": "Python 3",
   "language": "python",
   "name": "python3"
  },
  "language_info": {
   "codemirror_mode": {
    "name": "ipython",
    "version": 3
   },
   "file_extension": ".py",
   "mimetype": "text/x-python",
   "name": "python",
   "nbconvert_exporter": "python",
   "pygments_lexer": "ipython3",
   "version": "3.8.5"
  }
 },
 "nbformat": 4,
 "nbformat_minor": 4
}
